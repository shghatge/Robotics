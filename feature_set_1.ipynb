{
  "nbformat": 4,
  "nbformat_minor": 0,
  "metadata": {
    "colab": {
      "name": "feature_set_1.ipynb",
      "version": "0.3.2",
      "provenance": [],
      "include_colab_link": true
    },
    "language_info": {
      "codemirror_mode": {
        "name": "ipython",
        "version": 3
      },
      "file_extension": ".py",
      "mimetype": "text/x-python",
      "name": "python",
      "nbconvert_exporter": "python",
      "pygments_lexer": "ipython3",
      "version": "3.6.8"
    },
    "kernelspec": {
      "name": "python3",
      "display_name": "Python 3"
    }
  },
  "cells": [
    {
      "cell_type": "markdown",
      "metadata": {
        "id": "view-in-github",
        "colab_type": "text"
      },
      "source": [
        "<a href=\"https://colab.research.google.com/github/shghatge/Robotics/blob/master/feature_set_1.ipynb\" target=\"_parent\"><img src=\"https://colab.research.google.com/assets/colab-badge.svg\" alt=\"Open In Colab\"/></a>"
      ]
    },
    {
      "metadata": {
        "id": "xrOrarCKcvZE",
        "colab_type": "code",
        "colab": {
          "base_uri": "https://localhost:8080/",
          "height": 54
        },
        "outputId": "63399310-1c3a-43c1-efef-a53294583033"
      },
      "cell_type": "code",
      "source": [
        "import pandas as pd\n",
        "import numpy as np\n",
        "from collections import Counter\n",
        "import re\n",
        "import nltk \n",
        "nltk.download('punkt')\n",
        "from nltk import word_tokenize\n",
        "from nltk.stem.porter import PorterStemmer\n",
        "from nltk.util import ngrams\n",
        "import pickle"
      ],
      "execution_count": 20,
      "outputs": [
        {
          "output_type": "stream",
          "text": [
            "[nltk_data] Downloading package punkt to /root/nltk_data...\n",
            "[nltk_data]   Package punkt is already up-to-date!\n"
          ],
          "name": "stdout"
        }
      ]
    },
    {
      "metadata": {
        "id": "R_6eSq-hcvZR",
        "colab_type": "code",
        "colab": {}
      },
      "cell_type": "code",
      "source": [
        "def dump_to_file(obj, file):\n",
        "    f = open(file,\"wb\")\n",
        "    pickle.dump(obj,f)\n",
        "    f.close()"
      ],
      "execution_count": 0,
      "outputs": []
    },
    {
      "metadata": {
        "id": "oPrn0Aq3cvZY",
        "colab_type": "code",
        "colab": {}
      },
      "cell_type": "code",
      "source": [
        "def get_obj(file):\n",
        "    with open(file, 'rb') as handle:\n",
        "        obj = pickle.load(handle)\n",
        "    return obj"
      ],
      "execution_count": 0,
      "outputs": []
    },
    {
      "metadata": {
        "id": "l6mrFR7GcvZg",
        "colab_type": "code",
        "colab": {}
      },
      "cell_type": "code",
      "source": [
        "def tokenize(text):\n",
        "    tokens = nltk.word_tokenize(text)\n",
        "    stems = []\n",
        "    for item in tokens:\n",
        "        stems.append(PorterStemmer().stem(item))\n",
        "    return stems"
      ],
      "execution_count": 0,
      "outputs": []
    },
    {
      "metadata": {
        "id": "Jv8UmpgAcvZl",
        "colab_type": "code",
        "colab": {}
      },
      "cell_type": "code",
      "source": [
        "clean_file_train = 'Top10Train.csv'\n",
        "clean_file_test = 'Top10Test.csv'"
      ],
      "execution_count": 0,
      "outputs": []
    },
    {
      "metadata": {
        "id": "-Cr64a_fcvZq",
        "colab_type": "code",
        "colab": {
          "base_uri": "https://localhost:8080/",
          "height": 36
        },
        "outputId": "0c53256f-121d-4072-f565-9a25e68c466a"
      },
      "cell_type": "code",
      "source": [
        "trainFile = pd.read_csv(clean_file_train, low_memory=False)\n",
        "testFile = pd.read_csv(clean_file_test, low_memory=False)\n",
        "print('Data Read')"
      ],
      "execution_count": 25,
      "outputs": [
        {
          "output_type": "stream",
          "text": [
            "Data Read\n"
          ],
          "name": "stdout"
        }
      ]
    },
    {
      "metadata": {
        "scrolled": true,
        "id": "7VRWapTLcvZy",
        "colab_type": "code",
        "colab": {
          "base_uri": "https://localhost:8080/",
          "height": 73
        },
        "outputId": "3ee4cea4-a89c-4163-e465-9e2d22ec67e7"
      },
      "cell_type": "code",
      "source": [
        "print(trainFile[\"cleanText\"][10])\n",
        "print(trainFile[\"text\"][10])\n",
        "print(trainFile[\"fillers\"][10])\n"
      ],
      "execution_count": 26,
      "outputs": [
        {
          "output_type": "stream",
          "text": [
            " I uh my sister has a she just had a baby \n",
            "[ [ I, + {F uh, } my sister has a, ] + she just had a ] baby,  /\n",
            "F \n"
          ],
          "name": "stdout"
        }
      ]
    },
    {
      "metadata": {
        "id": "K4l7WXhGcvZ6",
        "colab_type": "code",
        "colab": {}
      },
      "cell_type": "code",
      "source": [
        "corpus = list()\n",
        "for index, row in trainFile.iterrows():\n",
        "    curTxt = tokenize(row[\"cleanText\"])\n",
        "    corpus.append(' '.join(curTxt))"
      ],
      "execution_count": 0,
      "outputs": []
    },
    {
      "metadata": {
        "id": "BUMGQdcXcvaC",
        "colab_type": "code",
        "colab": {
          "base_uri": "https://localhost:8080/",
          "height": 56
        },
        "outputId": "f7d418f4-edf0-401b-8eef-f9ea9210afc6"
      },
      "cell_type": "code",
      "source": [
        "train_corpus = corpus\n",
        "print(train_corpus[:10])\n"
      ],
      "execution_count": 28,
      "outputs": [
        {
          "output_type": "stream",
          "text": [
            "['doe it say someth', 'I think it usual doe', 'okay', 'well', 'okay', 'I', 'It seem like it did', 'but it might not', 'I guess', 'okay']\n"
          ],
          "name": "stdout"
        }
      ]
    },
    {
      "metadata": {
        "id": "NMrx7v-5cvaP",
        "colab_type": "code",
        "colab": {}
      },
      "cell_type": "code",
      "source": [
        "corpus = list()\n",
        "for index, row in testFile.iterrows():\n",
        "    corpus.append(' '.join(tokenize(row[\"cleanText\"])))"
      ],
      "execution_count": 0,
      "outputs": []
    },
    {
      "metadata": {
        "id": "J28RkKiKcvaY",
        "colab_type": "code",
        "colab": {}
      },
      "cell_type": "code",
      "source": [
        "test_corpus = corpus\n",
        "corpus = []"
      ],
      "execution_count": 0,
      "outputs": []
    },
    {
      "metadata": {
        "id": "4ddtT63Mcvad",
        "colab_type": "code",
        "colab": {
          "base_uri": "https://localhost:8080/",
          "height": 56
        },
        "outputId": "2057b137-76ce-4137-9513-7a7bf949cdb3"
      },
      "cell_type": "code",
      "source": [
        "print(test_corpus[:10])"
      ],
      "execution_count": 31,
      "outputs": [
        {
          "output_type": "stream",
          "text": [
            "['Uh huh', 'well um I we just recent graduat from rice univers', 'and uh we were go through a lot of job interview and thing', 'and some of the thing that were import to me uh when my husband wa look for hi job wa um hour you know', 'we', 'hed been in graduat school so I wa use to hi not be home at all', 'yeah', '', 'So I wa you know didnt want him to have a job that would make him kind of be on call all the time and have to go in at ani time and', 'Uh huh']\n"
          ],
          "name": "stdout"
        }
      ]
    },
    {
      "metadata": {
        "id": "ZL6RqVnicvak",
        "colab_type": "code",
        "colab": {
          "base_uri": "https://localhost:8080/",
          "height": 128
        },
        "outputId": "2fb99154-22c9-4819-818a-764b6b6887d2"
      },
      "cell_type": "code",
      "source": [
        "#feature set 1 , word frequency\n",
        "from sklearn.feature_extraction.text import CountVectorizer\n",
        "# create the transform\n",
        "vectorizer = CountVectorizer(min_df = 40, max_df=1000000, tokenizer=tokenize)\n",
        "# tokenize and build vocab\n",
        "vectorizer.fit(train_corpus)"
      ],
      "execution_count": 32,
      "outputs": [
        {
          "output_type": "execute_result",
          "data": {
            "text/plain": [
              "CountVectorizer(analyzer='word', binary=False, decode_error='strict',\n",
              "        dtype=<class 'numpy.int64'>, encoding='utf-8', input='content',\n",
              "        lowercase=True, max_df=1000000, max_features=None, min_df=40,\n",
              "        ngram_range=(1, 1), preprocessor=None, stop_words=None,\n",
              "        strip_accents=None, token_pattern='(?u)\\\\b\\\\w\\\\w+\\\\b',\n",
              "        tokenizer=<function tokenize at 0x7fdfa624ce18>, vocabulary=None)"
            ]
          },
          "metadata": {
            "tags": []
          },
          "execution_count": 32
        }
      ]
    },
    {
      "metadata": {
        "id": "-KYEBoQecvaq",
        "colab_type": "code",
        "colab": {
          "base_uri": "https://localhost:8080/",
          "height": 36
        },
        "outputId": "3554922e-c6ae-4a1f-a965-f4fc4d408ec1"
      },
      "cell_type": "code",
      "source": [
        "print(len(vectorizer.vocabulary_))"
      ],
      "execution_count": 33,
      "outputs": [
        {
          "output_type": "stream",
          "text": [
            "1315\n"
          ],
          "name": "stdout"
        }
      ]
    },
    {
      "metadata": {
        "id": "GVic66jfcvaz",
        "colab_type": "code",
        "colab": {}
      },
      "cell_type": "code",
      "source": [
        "features_rows = dict()\n",
        "for index , row in trainFile.iterrows():\n",
        "    encoded = vectorizer.transform([row[\"cleanText\"]])\n",
        "    features_rows[index] = encoded.toarray()"
      ],
      "execution_count": 0,
      "outputs": []
    },
    {
      "metadata": {
        "id": "Hn3thcWVcva6",
        "colab_type": "code",
        "colab": {}
      },
      "cell_type": "code",
      "source": [
        "train_labels = dict()\n",
        "for index, row in trainFile.iterrows():\n",
        "    train_labels[index] = row['act_tag']"
      ],
      "execution_count": 0,
      "outputs": []
    },
    {
      "metadata": {
        "id": "y2aV5GfOcva_",
        "colab_type": "code",
        "colab": {
          "base_uri": "https://localhost:8080/",
          "height": 36
        },
        "outputId": "274828f4-58c1-46ac-915e-f412afa73cc1"
      },
      "cell_type": "code",
      "source": [
        "print(type(features_rows[108]))"
      ],
      "execution_count": 36,
      "outputs": [
        {
          "output_type": "stream",
          "text": [
            "<class 'numpy.ndarray'>\n"
          ],
          "name": "stdout"
        }
      ]
    },
    {
      "metadata": {
        "id": "CazvtPadcvbK",
        "colab_type": "code",
        "colab": {}
      },
      "cell_type": "code",
      "source": [
        "unigram_file = 'train_features1.pkl'\n",
        "labels_train_file = 'train_labels1.pkl'\n",
        "unigram_test_file = 'test_features1.pkl'\n",
        "labels_test_file = 'test_labels1.pkl'"
      ],
      "execution_count": 0,
      "outputs": []
    },
    {
      "metadata": {
        "id": "2I8g-WwMcvbR",
        "colab_type": "code",
        "colab": {}
      },
      "cell_type": "code",
      "source": [
        "features_rows = np.array([*features_rows.values()])[:,0,:]"
      ],
      "execution_count": 0,
      "outputs": []
    },
    {
      "metadata": {
        "id": "xhoTepFBcvbX",
        "colab_type": "code",
        "colab": {}
      },
      "cell_type": "code",
      "source": [
        "train_labels = np.array([*train_labels.values()])"
      ],
      "execution_count": 0,
      "outputs": []
    },
    {
      "metadata": {
        "id": "bNcWsYURcvbf",
        "colab_type": "code",
        "colab": {
          "base_uri": "https://localhost:8080/",
          "height": 36
        },
        "outputId": "5cbbd29b-c475-45f3-c993-9d54745cc327"
      },
      "cell_type": "code",
      "source": [
        "print(features_rows.shape)"
      ],
      "execution_count": 40,
      "outputs": [
        {
          "output_type": "stream",
          "text": [
            "(147510, 1315)\n"
          ],
          "name": "stdout"
        }
      ]
    },
    {
      "metadata": {
        "id": "le4odQI0cvbr",
        "colab_type": "code",
        "colab": {}
      },
      "cell_type": "code",
      "source": [
        "dump_to_file(features_rows, unigram_file)\n",
        "dump_to_file(train_labels, labels_train_file)"
      ],
      "execution_count": 0,
      "outputs": []
    },
    {
      "metadata": {
        "id": "9m7Yq3X6cvbx",
        "colab_type": "code",
        "colab": {}
      },
      "cell_type": "code",
      "source": [
        "x_train = get_obj(unigram_file)\n",
        "y_train = get_obj(labels_train_file)"
      ],
      "execution_count": 0,
      "outputs": []
    },
    {
      "metadata": {
        "id": "RQMdl_TKcvb3",
        "colab_type": "code",
        "colab": {}
      },
      "cell_type": "code",
      "source": [
        "features_rows = dict()\n",
        "test_labels = dict()"
      ],
      "execution_count": 0,
      "outputs": []
    },
    {
      "metadata": {
        "id": "myOJtPY8cvb6",
        "colab_type": "code",
        "colab": {}
      },
      "cell_type": "code",
      "source": [
        "for index , row in testFile.iterrows():\n",
        "    encoded = vectorizer.transform([row[\"cleanText\"]])\n",
        "    features_rows[index] = encoded.toarray()\n"
      ],
      "execution_count": 0,
      "outputs": []
    },
    {
      "metadata": {
        "id": "f8R-njclcvb8",
        "colab_type": "code",
        "colab": {
          "base_uri": "https://localhost:8080/",
          "height": 36
        },
        "outputId": "29c99244-3a6e-4f40-b744-5b4c9c5f8d92"
      },
      "cell_type": "code",
      "source": [
        "test_labels = dict()\n",
        "for index, row in testFile.iterrows():\n",
        "    test_labels[index] = row['act_tag']\n",
        "x_test = np.array([*features_rows.values()])\n",
        "y_test = np.array([*test_labels.values()])\n",
        "print(y_test.shape)"
      ],
      "execution_count": 45,
      "outputs": [
        {
          "output_type": "stream",
          "text": [
            "(26540,)\n"
          ],
          "name": "stdout"
        }
      ]
    },
    {
      "metadata": {
        "id": "VPtRFz-ecvcF",
        "colab_type": "code",
        "colab": {
          "base_uri": "https://localhost:8080/",
          "height": 36
        },
        "outputId": "8b6dc0fc-4b34-4614-a7e9-a3ae41d48ecd"
      },
      "cell_type": "code",
      "source": [
        "print(y_test.shape)"
      ],
      "execution_count": 46,
      "outputs": [
        {
          "output_type": "stream",
          "text": [
            "(26540,)\n"
          ],
          "name": "stdout"
        }
      ]
    },
    {
      "metadata": {
        "id": "Iq6edWPXcvcJ",
        "colab_type": "code",
        "colab": {}
      },
      "cell_type": "code",
      "source": [
        "dump_to_file(x_test, unigram_test_file)\n",
        "dump_to_file(y_test, labels_test_file)"
      ],
      "execution_count": 0,
      "outputs": []
    },
    {
      "metadata": {
        "id": "n1VcM_6lcvcM",
        "colab_type": "code",
        "colab": {}
      },
      "cell_type": "code",
      "source": [
        "x_test = get_obj(unigram_test_file)[:,0,:]\n",
        "y_test = get_obj(labels_test_file)"
      ],
      "execution_count": 0,
      "outputs": []
    },
    {
      "metadata": {
        "id": "_gCdWAbScvcO",
        "colab_type": "code",
        "colab": {}
      },
      "cell_type": "code",
      "source": [
        "from sklearn.ensemble import RandomForestClassifier\n",
        "from sklearn.metrics import classification_report\n",
        "from sklearn import preprocessing\n",
        "from sklearn.multiclass import OneVsRestClassifier"
      ],
      "execution_count": 0,
      "outputs": []
    },
    {
      "metadata": {
        "id": "GlTssxiWcvcQ",
        "colab_type": "code",
        "colab": {}
      },
      "cell_type": "code",
      "source": [
        "le = preprocessing.LabelEncoder()\n",
        "le.fit(y_train)\n",
        "y_train = le.transform(y_train)\n",
        "model = OneVsRestClassifier(RandomForestClassifier(n_estimators=50)).fit(x_train, y_train)"
      ],
      "execution_count": 0,
      "outputs": []
    },
    {
      "metadata": {
        "id": "cLawh43QcvcT",
        "colab_type": "code",
        "colab": {}
      },
      "cell_type": "code",
      "source": [
        "preds = model.predict(x_test)"
      ],
      "execution_count": 0,
      "outputs": []
    },
    {
      "metadata": {
        "id": "H2RVcwlvcvcW",
        "colab_type": "code",
        "colab": {
          "base_uri": "https://localhost:8080/",
          "height": 36
        },
        "outputId": "135604ac-2617-447d-c0fe-c231bc95a2f4"
      },
      "cell_type": "code",
      "source": [
        "print(len(preds))"
      ],
      "execution_count": 52,
      "outputs": [
        {
          "output_type": "stream",
          "text": [
            "26540\n"
          ],
          "name": "stdout"
        }
      ]
    },
    {
      "metadata": {
        "id": "dY0aXzS-cvcY",
        "colab_type": "code",
        "colab": {}
      },
      "cell_type": "code",
      "source": [
        "target_names = le.classes_"
      ],
      "execution_count": 0,
      "outputs": []
    },
    {
      "metadata": {
        "id": "WmNc3vPQcvcb",
        "colab_type": "code",
        "colab": {
          "base_uri": "https://localhost:8080/",
          "height": 36
        },
        "outputId": "f4008019-0324-4268-bf07-29cb5fc6393e"
      },
      "cell_type": "code",
      "source": [
        "print(target_names)"
      ],
      "execution_count": 54,
      "outputs": [
        {
          "output_type": "stream",
          "text": [
            "['%' 'aa' 'b' 'ba' 'fc' 'ny' 'qy' 'sd' 'sv' 'x']\n"
          ],
          "name": "stdout"
        }
      ]
    },
    {
      "metadata": {
        "id": "FKl4Lxutcvcd",
        "colab_type": "code",
        "colab": {}
      },
      "cell_type": "code",
      "source": [
        "y_test = le.transform(y_test)"
      ],
      "execution_count": 0,
      "outputs": []
    },
    {
      "metadata": {
        "id": "1jkysV40cvcg",
        "colab_type": "code",
        "colab": {
          "base_uri": "https://localhost:8080/",
          "height": 333
        },
        "outputId": "64964ac8-83b7-4900-fa4a-c44771be60f8"
      },
      "cell_type": "code",
      "source": [
        "print(classification_report(y_test, preds, target_names=target_names))"
      ],
      "execution_count": 56,
      "outputs": [
        {
          "output_type": "stream",
          "text": [
            "              precision    recall  f1-score   support\n",
            "\n",
            "           %       0.58      0.72      0.64      2440\n",
            "          aa       0.36      0.46      0.40       859\n",
            "           b       0.85      0.95      0.90      6157\n",
            "          ba       0.75      0.48      0.59       756\n",
            "          fc       0.92      0.63      0.75       391\n",
            "          ny       0.53      0.02      0.04       413\n",
            "          qy       0.70      0.47      0.57       516\n",
            "          sd       0.75      0.85      0.80     10287\n",
            "          sv       0.64      0.32      0.42      4152\n",
            "           x       0.82      1.00      0.90       569\n",
            "\n",
            "   micro avg       0.73      0.73      0.73     26540\n",
            "   macro avg       0.69      0.59      0.60     26540\n",
            "weighted avg       0.73      0.73      0.71     26540\n",
            "\n"
          ],
          "name": "stdout"
        }
      ]
    },
    {
      "metadata": {
        "id": "GM0I1Wprcvcn",
        "colab_type": "code",
        "colab": {}
      },
      "cell_type": "code",
      "source": [
        "headers = vectorizer.get_feature_names()"
      ],
      "execution_count": 0,
      "outputs": []
    },
    {
      "metadata": {
        "id": "WR7Pqhf-cvcq",
        "colab_type": "code",
        "colab": {}
      },
      "cell_type": "code",
      "source": [
        "pdf = pd.DataFrame(data=x_train,columns = headers) \n",
        "pdf.to_csv('Feature_Set_1_train')"
      ],
      "execution_count": 0,
      "outputs": []
    },
    {
      "metadata": {
        "id": "J0qCozbjcvcr",
        "colab_type": "code",
        "colab": {}
      },
      "cell_type": "code",
      "source": [
        "pdf = pd.DataFrame(data=x_test,columns = headers) \n",
        "pdf.to_csv('Feature_Set_1_test')"
      ],
      "execution_count": 0,
      "outputs": []
    },
    {
      "metadata": {
        "id": "P58qM6rYcvcu",
        "colab_type": "code",
        "colab": {
          "base_uri": "https://localhost:8080/",
          "height": 1171
        },
        "outputId": "b561b727-72b2-4b16-d7a0-6998ee418953"
      },
      "cell_type": "code",
      "source": [
        "import matplotlib.pyplot as plt\n",
        "from sklearn.metrics import confusion_matrix\n",
        "from sklearn.utils.multiclass import unique_labels\n",
        "def plot_confusion_matrix(y_true, y_pred, classes,\n",
        "                          normalize=False,\n",
        "                          title=None,\n",
        "                          cmap=plt.cm.Blues):\n",
        "    \"\"\"\n",
        "    This function prints and plots the confusion matrix.\n",
        "    Normalization can be applied by setting `normalize=True`.\n",
        "    \"\"\"\n",
        "    if not title:\n",
        "        if normalize:\n",
        "            title = 'Normalized confusion matrix'\n",
        "        else:\n",
        "            title = 'Confusion matrix, without normalization'\n",
        "\n",
        "    # Compute confusion matrix\n",
        "    cm = confusion_matrix(y_true, y_pred)\n",
        "    # Only use the labels that appear in the data\n",
        "    classes = classes[unique_labels(y_true, y_pred)]\n",
        "    if normalize:\n",
        "        cm = cm.astype('float') / cm.sum(axis=1)[:, np.newaxis]\n",
        "        print(\"Normalized confusion matrix\")\n",
        "    else:\n",
        "        print('Confusion matrix, without normalization')\n",
        "\n",
        "    print(cm)\n",
        "\n",
        "    fig, ax = plt.subplots()\n",
        "    im = ax.imshow(cm, interpolation='nearest', cmap=cmap)\n",
        "    ax.figure.colorbar(im, ax=ax)\n",
        "    # We want to show all ticks...\n",
        "    ax.set(xticks=np.arange(cm.shape[1]),\n",
        "           yticks=np.arange(cm.shape[0]),\n",
        "           # ... and label them with the respective list entries\n",
        "           xticklabels=classes, yticklabels=classes,\n",
        "           title=title,\n",
        "           ylabel='True label',\n",
        "           xlabel='Predicted label')\n",
        "\n",
        "    # Rotate the tick labels and set their alignment.\n",
        "    plt.setp(ax.get_xticklabels(), rotation=45, ha=\"right\",\n",
        "             rotation_mode=\"anchor\")\n",
        "\n",
        "    # Loop over data dimensions and create text annotations.\n",
        "    fmt = '.2f' if normalize else 'd'\n",
        "    thresh = cm.max() / 2.\n",
        "    for i in range(cm.shape[0]):\n",
        "        for j in range(cm.shape[1]):\n",
        "            ax.text(j, i, format(cm[i, j], fmt),\n",
        "                    ha=\"center\", va=\"center\",\n",
        "                    color=\"white\" if cm[i, j] > thresh else \"black\")\n",
        "    fig.tight_layout()\n",
        "    return ax\n",
        "\n",
        "\n",
        "np.set_printoptions(precision=2)\n",
        "\n",
        "# Plot non-normalized confusion matrix\n",
        "plot_confusion_matrix(y_test, preds, classes=target_names,\n",
        "                      title='Confusion matrix, without normalization')\n",
        "\n",
        "# Plot normalized confusion matrix\n",
        "plot_confusion_matrix(y_test, preds, classes=target_names, normalize=True,\n",
        "                      title='Normalized confusion matrix')\n",
        "plt.show()"
      ],
      "execution_count": 60,
      "outputs": [
        {
          "output_type": "stream",
          "text": [
            "Confusion matrix, without normalization\n",
            "[[1761   38  146    8    2    2   18  371   58   36]\n",
            " [  34  394  380    4    1    4    1   29   10    2]\n",
            " [  71  214 5821   23    6    2    2    7    2    9]\n",
            " [  27  218   47  366    1    0   12   30   46    9]\n",
            " [  16    4   75    4  247    0    1   34    7    3]\n",
            " [   3   72  329    0    0    9    0    0    0    0]\n",
            " [  31    8   12    4    1    0  244  174   39    3]\n",
            " [ 761   63   20   20    6    0   42 8751  575   49]\n",
            " [ 358   84    2   60    5    0   27 2288 1312   16]\n",
            " [   0    0    0    0    0    0    0    0    0  569]]\n",
            "Normalized confusion matrix\n",
            "[[7.22e-01 1.56e-02 5.98e-02 3.28e-03 8.20e-04 8.20e-04 7.38e-03 1.52e-01\n",
            "  2.38e-02 1.48e-02]\n",
            " [3.96e-02 4.59e-01 4.42e-01 4.66e-03 1.16e-03 4.66e-03 1.16e-03 3.38e-02\n",
            "  1.16e-02 2.33e-03]\n",
            " [1.15e-02 3.48e-02 9.45e-01 3.74e-03 9.75e-04 3.25e-04 3.25e-04 1.14e-03\n",
            "  3.25e-04 1.46e-03]\n",
            " [3.57e-02 2.88e-01 6.22e-02 4.84e-01 1.32e-03 0.00e+00 1.59e-02 3.97e-02\n",
            "  6.08e-02 1.19e-02]\n",
            " [4.09e-02 1.02e-02 1.92e-01 1.02e-02 6.32e-01 0.00e+00 2.56e-03 8.70e-02\n",
            "  1.79e-02 7.67e-03]\n",
            " [7.26e-03 1.74e-01 7.97e-01 0.00e+00 0.00e+00 2.18e-02 0.00e+00 0.00e+00\n",
            "  0.00e+00 0.00e+00]\n",
            " [6.01e-02 1.55e-02 2.33e-02 7.75e-03 1.94e-03 0.00e+00 4.73e-01 3.37e-01\n",
            "  7.56e-02 5.81e-03]\n",
            " [7.40e-02 6.12e-03 1.94e-03 1.94e-03 5.83e-04 0.00e+00 4.08e-03 8.51e-01\n",
            "  5.59e-02 4.76e-03]\n",
            " [8.62e-02 2.02e-02 4.82e-04 1.45e-02 1.20e-03 0.00e+00 6.50e-03 5.51e-01\n",
            "  3.16e-01 3.85e-03]\n",
            " [0.00e+00 0.00e+00 0.00e+00 0.00e+00 0.00e+00 0.00e+00 0.00e+00 0.00e+00\n",
            "  0.00e+00 1.00e+00]]\n"
          ],
          "name": "stdout"
        },
        {
          "output_type": "display_data",
          "data": {
            "image/png": "[encoded data removed]",
            "text/plain": [
              "<Figure size 432x288 with 2 Axes>"
            ]
          },
          "metadata": {
            "tags": []
          }
        },
        {
          "output_type": "display_data",
          "data": {
            "image/png": "[encoded data removed]",
            "text/plain": [
              "<Figure size 432x288 with 2 Axes>"
            ]
          },
          "metadata": {
            "tags": []
          }
        }
      ]
    },
    {
      "metadata": {
        "id": "BDOW_IFdcvcv",
        "colab_type": "code",
        "colab": {
          "base_uri": "https://localhost:8080/",
          "height": 36
        },
        "outputId": "267cd4f3-9e68-4077-e4f0-a54999eec41b"
      },
      "cell_type": "code",
      "source": [
        "import matplotlib\n",
        "print(matplotlib.matplotlib_fname())"
      ],
      "execution_count": 61,
      "outputs": [
        {
          "output_type": "stream",
          "text": [
            "/usr/local/lib/python3.6/dist-packages/matplotlib/mpl-data/matplotlibrc\n"
          ],
          "name": "stdout"
        }
      ]
    },
    {
      "metadata": {
        "id": "ZxwfjDcGcvc1",
        "colab_type": "code",
        "colab": {
          "base_uri": "https://localhost:8080/",
          "height": 36
        },
        "outputId": "1fdc4626-82cb-4ed2-95d9-b6ce0809f135"
      },
      "cell_type": "code",
      "source": [
        "print(tokenize('think'))"
      ],
      "execution_count": 62,
      "outputs": [
        {
          "output_type": "stream",
          "text": [
            "['think']\n"
          ],
          "name": "stdout"
        }
      ]
    },
    {
      "metadata": {
        "id": "gHuUdF7Qcvc5",
        "colab_type": "code",
        "colab": {
          "base_uri": "https://localhost:8080/",
          "height": 36
        },
        "outputId": "d7b2ce00-dcbd-4885-81d7-d81e612c07dd"
      },
      "cell_type": "code",
      "source": [
        "len(x_train)"
      ],
      "execution_count": 63,
      "outputs": [
        {
          "output_type": "execute_result",
          "data": {
            "text/plain": [
              "147510"
            ]
          },
          "metadata": {
            "tags": []
          },
          "execution_count": 63
        }
      ]
    },
    {
      "metadata": {
        "id": "c2Gj8BM3cvc8",
        "colab_type": "code",
        "colab": {}
      },
      "cell_type": "code",
      "source": [
        "wn = vectorizer.vocabulary_['think']"
      ],
      "execution_count": 0,
      "outputs": []
    },
    {
      "metadata": {
        "id": "4qGZ4alYcvc-",
        "colab_type": "code",
        "colab": {}
      },
      "cell_type": "code",
      "source": [
        "think_freq = x_train[:,wn]"
      ],
      "execution_count": 0,
      "outputs": []
    },
    {
      "metadata": {
        "id": "-TZq6xQVcvdA",
        "colab_type": "code",
        "colab": {
          "base_uri": "https://localhost:8080/",
          "height": 36
        },
        "outputId": "131761ed-1087-45f3-b5e7-91e79a50b4e2"
      },
      "cell_type": "code",
      "source": [
        "print(le.classes_)"
      ],
      "execution_count": 66,
      "outputs": [
        {
          "output_type": "stream",
          "text": [
            "['%' 'aa' 'b' 'ba' 'fc' 'ny' 'qy' 'sd' 'sv' 'x']\n"
          ],
          "name": "stdout"
        }
      ]
    },
    {
      "metadata": {
        "id": "aZsOeqqlcvdC",
        "colab_type": "code",
        "colab": {}
      },
      "cell_type": "code",
      "source": [
        "row_tags = le.inverse_transform(y_test)"
      ],
      "execution_count": 0,
      "outputs": []
    },
    {
      "metadata": {
        "id": "L9_LPUgicvdF",
        "colab_type": "code",
        "colab": {
          "base_uri": "https://localhost:8080/",
          "height": 36
        },
        "outputId": "e2d6048b-eb6a-4b73-afcb-927c58556805"
      },
      "cell_type": "code",
      "source": [
        "freq = [0] * 10\n",
        "setences = [0] * 10\n",
        "print(len(think_freq))"
      ],
      "execution_count": 68,
      "outputs": [
        {
          "output_type": "stream",
          "text": [
            "147510\n"
          ],
          "name": "stdout"
        }
      ]
    },
    {
      "metadata": {
        "id": "PHarNzjecvdI",
        "colab_type": "code",
        "colab": {}
      },
      "cell_type": "code",
      "source": [
        "for i in range(0,len(think_freq)):\n",
        "    freq[y_train[i]]+= think_freq[i]\n",
        "    setences[y_train[i]]+=1\n"
      ],
      "execution_count": 0,
      "outputs": []
    },
    {
      "metadata": {
        "id": "cPwWihcAcvdZ",
        "colab_type": "code",
        "colab": {}
      },
      "cell_type": "code",
      "source": [
        "weighted = [0] * 10\n",
        "for i in range(0,10):\n",
        "    weighted[i] = freq[i]/setences[i]"
      ],
      "execution_count": 0,
      "outputs": []
    },
    {
      "metadata": {
        "id": "RWy-eGrFcvdd",
        "colab_type": "code",
        "colab": {
          "base_uri": "https://localhost:8080/",
          "height": 74
        },
        "outputId": "6d994073-423a-495e-a5c6-c47254fc4167"
      },
      "cell_type": "code",
      "source": [
        "print(weighted)\n",
        "print(setences)"
      ],
      "execution_count": 71,
      "outputs": [
        {
          "output_type": "stream",
          "text": [
            "[0.016872979578963967, 0.01835759287421247, 6.678465288676663e-05, 0.00480128034142438, 0.016595289079229122, 0.0, 0.04538531830642705, 0.03718025980982992, 0.19240788983997023, 0.0]\n",
            "[12683, 9206, 29947, 3749, 1868, 2449, 3283, 59736, 21496, 3093]\n"
          ],
          "name": "stdout"
        }
      ]
    },
    {
      "metadata": {
        "id": "a61cnRIUcvdl",
        "colab_type": "code",
        "colab": {
          "base_uri": "https://localhost:8080/",
          "height": 296
        },
        "outputId": "f0da6789-48b7-401a-e331-849fc66f1a90"
      },
      "cell_type": "code",
      "source": [
        "plt.plot(le.classes_, weighted)\n",
        "plt.xlabel('act_tag')\n",
        "plt.ylabel('frequency')\n",
        "plt.title('frequence of think unigram')\n",
        "plt.show()"
      ],
      "execution_count": 72,
      "outputs": [
        {
          "output_type": "display_data",
          "data": {
            "image/png": "[encoded data removed]",
            "text/plain": [
              "<Figure size 432x288 with 1 Axes>"
            ]
          },
          "metadata": {
            "tags": []
          }
        }
      ]
    },
    {
      "metadata": {
        "id": "VLN-WE4dcvdp",
        "colab_type": "code",
        "colab": {}
      },
      "cell_type": "code",
      "source": [
        ""
      ],
      "execution_count": 0,
      "outputs": []
    }
  ]
}